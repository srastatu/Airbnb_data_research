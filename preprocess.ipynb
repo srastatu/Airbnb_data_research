{
 "cells": [
  {
   "cell_type": "code",
   "execution_count": 1,
   "metadata": {},
   "outputs": [],
   "source": [
    "import pandas as pd\n",
    "import numpy as np\n",
    "import matplotlib.pyplot as plt\n",
    "import seaborn as sns\n",
    "from datetime import datetime"
   ]
  },
  {
   "cell_type": "code",
   "execution_count": 2,
   "metadata": {},
   "outputs": [
    {
     "name": "stderr",
     "output_type": "stream",
     "text": [
      "<>:4: SyntaxWarning: invalid escape sequence '\\$'\n",
      "<>:5: SyntaxWarning: invalid escape sequence '\\$'\n",
      "<>:4: SyntaxWarning: invalid escape sequence '\\$'\n",
      "<>:5: SyntaxWarning: invalid escape sequence '\\$'\n",
      "C:\\Users\\A93074843\\AppData\\Local\\Temp\\ipykernel_37196\\4276966955.py:4: SyntaxWarning: invalid escape sequence '\\$'\n",
      "  listing_df['price'] = listing_df['price'].replace({'\\$': '', ',': ''}, regex=True).astype(float)\n",
      "C:\\Users\\A93074843\\AppData\\Local\\Temp\\ipykernel_37196\\4276966955.py:5: SyntaxWarning: invalid escape sequence '\\$'\n",
      "  price_df['price'] = price_df['price'].replace({'\\$': '', ',': ''}, regex=True).astype(float)\n"
     ]
    }
   ],
   "source": [
    "listing_df = pd.read_csv('data/listings.csv')\n",
    "price_df = pd.read_csv('data/calendar.csv')\n",
    "\n",
    "listing_df['price'] = listing_df['price'].replace({'\\$': '', ',': ''}, regex=True).astype(float)\n",
    "price_df['price'] = price_df['price'].replace({'\\$': '', ',': ''}, regex=True).astype(float)\n",
    "\n",
    "# Assuming price_df is a pandas DataFrame and 'id' and 'price' are column names\n",
    "grouped_avail_price_df = price_df[price_df['available'] == 't'].groupby('listing_id')['price'].mean().reset_index()\n",
    "grouped_avail_price_df.rename(columns={'price': 'average_price','listing_id': 'id'}, inplace=True)\n",
    "\n",
    "grouped_all_price_df = price_df.groupby('listing_id')['price'].mean().reset_index()\n",
    "grouped_all_price_df.rename(columns={'price': 'average_price','listing_id': 'id'}, inplace=True)\n",
    "\n",
    "del price_df\n",
    "\n",
    "\n",
    "\n"
   ]
  },
  {
   "cell_type": "code",
   "execution_count": 3,
   "metadata": {},
   "outputs": [
    {
     "name": "stdout",
     "output_type": "stream",
     "text": [
      " Number of rows before merge 7281\n",
      "number of missed price: 2554\n",
      " Number of rows after merge 7281\n",
      "number of missed price: 2147\n",
      " Number of rows after merge 7281\n",
      "number of missed price: 0\n"
     ]
    }
   ],
   "source": [
    "print (f' Number of rows before merge {listing_df.shape[0]}')\n",
    "print (f'number of missed price: {listing_df['price'].isnull().sum()}')\n",
    "avail_merged_df = pd.merge(listing_df, grouped_avail_price_df, on='id', how='left')\n",
    "avail_merged_df['price'] = avail_merged_df['price'].fillna(avail_merged_df['average_price'])\n",
    "avail_merged_df.drop(columns=['average_price'], inplace=True)\n",
    "print (f' Number of rows after merge {avail_merged_df.shape[0]}')\n",
    "print (f'number of missed price: {avail_merged_df['price'].isnull().sum()}')\n",
    "\n",
    "#merged_df.to_csv('data/listings_avail_processed.csv', index=False)\n",
    "\n",
    "\n",
    "all_merged_df = pd.merge(listing_df, grouped_all_price_df, on='id', how='left')\n",
    "all_merged_df['price'] = all_merged_df['price'].fillna(all_merged_df['average_price'])\n",
    "all_merged_df.drop(columns=['average_price'], inplace=True)\n",
    "print (f' Number of rows after merge {all_merged_df.shape[0]}')\n",
    "print (f'number of missed price: {all_merged_df['price'].isnull().sum()}')\n",
    "\n",
    "#merged_df.to_csv('data/listings_all_processed.csv', index=False)"
   ]
  },
  {
   "cell_type": "code",
   "execution_count": 4,
   "metadata": {},
   "outputs": [],
   "source": [
    "# Create a new column that groups accommodates values of 5 and more into a single category\n",
    "avail_merged_df['accommodates_grouped'] = avail_merged_df['accommodates'].apply(lambda x: '6+' if x >= 6 else str(x))\n",
    "all_merged_df['accommodates_grouped'] = all_merged_df['accommodates'].apply(lambda x: '6+' if x >= 6 else str(x))\n",
    "\n",
    "#Remove outliers we don't want to consider (price > 1000 for one night)\n",
    "avail_merged_df = avail_merged_df[all_merged_df['price'] <= 1000]\n",
    "all_merged_df = all_merged_df[all_merged_df['price'] <= 1000]\n",
    "\n"
   ]
  },
  {
   "cell_type": "code",
   "execution_count": 5,
   "metadata": {},
   "outputs": [],
   "source": [
    "# Coordinates of the center of Munich\n",
    "munich_center = (48.137154, 11.576124)\n",
    "\n",
    "# Function to calculate the Haversine distance\n",
    "def haversine(lat1, lon1, lat2, lon2):\n",
    "    R = 6371  # Radius of the Earth in km\n",
    "    dlat = np.radians(lat2 - lat1)\n",
    "    dlon = np.radians(lon2 - lon1)\n",
    "    a = np.sin(dlat / 2) ** 2 + np.cos(np.radians(lat1)) * np.cos(np.radians(lat2)) * np.sin(dlon / 2) ** 2\n",
    "    c = 2 * np.arctan2(np.sqrt(a), np.sqrt(1 - a))\n",
    "    return R * c\n",
    "\n",
    "# Categorize the listings into different distance ranges\n",
    "bins = [0, 3, 5, 10, np.inf]\n",
    "labels = ['0-3 km', '3-5 km', '5-10 km', '10+ km']"
   ]
  },
  {
   "cell_type": "code",
   "execution_count": 6,
   "metadata": {},
   "outputs": [],
   "source": [
    "# Calculate the distance of each listing from the center of Munich\n",
    "avail_merged_df['distance_from_center'] = avail_merged_df.apply(lambda row: haversine(row['latitude'], row['longitude'], munich_center[0], munich_center[1]), axis=1)\n",
    "avail_merged_df['distance_category'] = pd.cut(avail_merged_df['distance_from_center'], bins=bins, labels=labels)\n",
    "\n",
    "all_merged_df['distance_from_center'] = all_merged_df.apply(lambda row: haversine(row['latitude'], row['longitude'], munich_center[0], munich_center[1]), axis=1)\n",
    "all_merged_df['distance_category'] = pd.cut(all_merged_df['distance_from_center'], bins=bins, labels=labels)\n"
   ]
  },
  {
   "cell_type": "code",
   "execution_count": 8,
   "metadata": {},
   "outputs": [],
   "source": [
    "avail_merged_df.to_csv('data/listings_avail_processed.csv', index=False)\n",
    "all_merged_df.to_csv('data/listings_all_processed.csv', index=False)"
   ]
  },
  {
   "cell_type": "code",
   "execution_count": 29,
   "metadata": {},
   "outputs": [],
   "source": []
  },
  {
   "cell_type": "code",
   "execution_count": null,
   "metadata": {},
   "outputs": [],
   "source": []
  },
  {
   "cell_type": "code",
   "execution_count": null,
   "metadata": {},
   "outputs": [],
   "source": []
  },
  {
   "cell_type": "code",
   "execution_count": 38,
   "metadata": {},
   "outputs": [],
   "source": []
  },
  {
   "cell_type": "code",
   "execution_count": 46,
   "metadata": {},
   "outputs": [],
   "source": []
  },
  {
   "cell_type": "code",
   "execution_count": 48,
   "metadata": {},
   "outputs": [],
   "source": []
  },
  {
   "cell_type": "code",
   "execution_count": null,
   "metadata": {},
   "outputs": [],
   "source": []
  }
 ],
 "metadata": {
  "kernelspec": {
   "display_name": "Python 3",
   "language": "python",
   "name": "python3"
  },
  "language_info": {
   "codemirror_mode": {
    "name": "ipython",
    "version": 3
   },
   "file_extension": ".py",
   "mimetype": "text/x-python",
   "name": "python",
   "nbconvert_exporter": "python",
   "pygments_lexer": "ipython3",
   "version": "3.12.3"
  }
 },
 "nbformat": 4,
 "nbformat_minor": 2
}
